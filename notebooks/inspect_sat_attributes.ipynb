{
 "cells": [
  {
   "cell_type": "code",
   "execution_count": 53,
   "metadata": {},
   "outputs": [],
   "source": [
    "import xarray as xr\n",
    "import ocf_blosc2"
   ]
  },
  {
   "cell_type": "code",
   "execution_count": 54,
   "metadata": {},
   "outputs": [],
   "source": [
    "year = 2023\n",
    "month = \"01\"\n",
    "file_end = \"nonhrv.zarr\"\n",
    "\n",
    "input_root = f\"gs://solar-pv-nowcasting-data/satellite/EUMETSAT/SEVIRI_RSS/v4/{year}-{month}_\" + file_end\n"
   ]
  },
  {
   "cell_type": "code",
   "execution_count": 55,
   "metadata": {},
   "outputs": [],
   "source": [
    "ds = xr.open_zarr(input_root.format(year=year, month=month)).sortby(\"time\")"
   ]
  },
  {
   "cell_type": "code",
   "execution_count": null,
   "metadata": {},
   "outputs": [],
   "source": [
    "ds"
   ]
  },
  {
   "cell_type": "code",
   "execution_count": null,
   "metadata": {},
   "outputs": [],
   "source": [
    "import json\n",
    "with open(\"../data/old_attrs.json\") as f:\n",
    "    load_old_attrs = json.load(f)\n",
    "\n",
    "load_old_attrs"
   ]
  },
  {
   "cell_type": "code",
   "execution_count": 59,
   "metadata": {},
   "outputs": [],
   "source": [
    "# Update ds.data.attrs with load_old_attrs while preserving any new attributes\n",
    "ds.data.attrs.update(load_old_attrs)"
   ]
  },
  {
   "cell_type": "code",
   "execution_count": 60,
   "metadata": {},
   "outputs": [],
   "source": [
    "new_attrs = ds.data.attrs"
   ]
  },
  {
   "cell_type": "code",
   "execution_count": 61,
   "metadata": {},
   "outputs": [],
   "source": [
    "# Open up the old data\n",
    "# year_2018\n",
    "input_root_old = f\"gs://solar-pv-nowcasting-data/satellite/EUMETSAT/SEVIRI_RSS/v4/{year}_\" + file_end\n",
    "\n",
    "ds_old = xr.open_zarr(input_root_old.format(year=year)).sortby(\"time\")"
   ]
  },
  {
   "cell_type": "code",
   "execution_count": null,
   "metadata": {},
   "outputs": [],
   "source": [
    "ds_old"
   ]
  },
  {
   "cell_type": "code",
   "execution_count": 63,
   "metadata": {},
   "outputs": [],
   "source": [
    "old_attrs = ds_old.data.attrs"
   ]
  },
  {
   "cell_type": "code",
   "execution_count": null,
   "metadata": {},
   "outputs": [],
   "source": [
    "old_attrs"
   ]
  },
  {
   "cell_type": "code",
   "execution_count": null,
   "metadata": {},
   "outputs": [],
   "source": [
    "# Print attributes that differ between old and new\n",
    "print(\"Old Attribute\",len(old_attrs))\n",
    "print(\"New Attributes\", len(new_attrs ))\n",
    "\n",
    "\n",
    "old_only = set(old_attrs.keys()) - set(new_attrs.keys())\n",
    "new_only = set(new_attrs.keys()) - set(old_attrs.keys())\n",
    "\n",
    "print(\"Attributes only in old_attrs:\", list(old_only))\n",
    "print(\"\\nAttributes only in new_attrs:\", list(new_only))\n"
   ]
  },
  {
   "cell_type": "code",
   "execution_count": null,
   "metadata": {},
   "outputs": [],
   "source": [
    "import json\n",
    "# Save to a file\n",
    "with open('../data/old_attrs.json', 'w') as f:\n",
    "    json.dump(old_attrs, f, indent=2)\n",
    "\n",
    "# Or print to screen\n",
    "print(json.dumps(old_attrs, indent=2))"
   ]
  },
  {
   "cell_type": "code",
   "execution_count": null,
   "metadata": {},
   "outputs": [],
   "source": []
  },
  {
   "cell_type": "code",
   "execution_count": 18,
   "metadata": {},
   "outputs": [],
   "source": [
    "# Open up the old data\n",
    "year = 2019\n",
    "# input_root_old = f\"gs://solar-pv-nowcasting-data/satellite/EUMETSAT/SEVIRI_RSS/v4/{year}_\" + file_end\n",
    "input_root_old = f\"gs://public-datasets-eumetsat-solar-forecasting/satellite/EUMETSAT/SEVIRI_RSS/v4/{year}_\" + file_end\n",
    "\n",
    "ds_old = xr.open_zarr(input_root_old.format(year=year)).sortby(\"time\")"
   ]
  },
  {
   "cell_type": "code",
   "execution_count": null,
   "metadata": {},
   "outputs": [],
   "source": [
    "ds_old.attrs"
   ]
  },
  {
   "cell_type": "code",
   "execution_count": null,
   "metadata": {},
   "outputs": [],
   "source": [
    "ds_old_data = ds_old.data\n",
    "\n",
    "if \"area\" in ds_old_data.attrs:\n",
    "    area_definition_yaml = ds_old_data.attrs[\"area\"]\n",
    "    print(area_definition_yaml)\n",
    "else:\n",
    "    print(\"Area attribute not found.\")"
   ]
  },
  {
   "cell_type": "code",
   "execution_count": null,
   "metadata": {},
   "outputs": [],
   "source": [
    "ds_old_data.attrs"
   ]
  },
  {
   "cell_type": "code",
   "execution_count": null,
   "metadata": {},
   "outputs": [],
   "source": []
  }
 ],
 "metadata": {
  "kernelspec": {
   "display_name": "base",
   "language": "python",
   "name": "python3"
  },
  "language_info": {
   "codemirror_mode": {
    "name": "ipython",
    "version": 3
   },
   "file_extension": ".py",
   "mimetype": "text/x-python",
   "name": "python",
   "nbconvert_exporter": "python",
   "pygments_lexer": "ipython3",
   "version": "3.10.13"
  }
 },
 "nbformat": 4,
 "nbformat_minor": 2
}
