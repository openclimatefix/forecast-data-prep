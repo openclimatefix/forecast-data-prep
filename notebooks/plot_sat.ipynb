{
 "cells": [
  {
   "cell_type": "code",
   "execution_count": 3,
   "metadata": {},
   "outputs": [],
   "source": [
    "import pandas as pd\n",
    "import xarray as xr\n",
    "import ocf_blosc2"
   ]
  },
  {
   "cell_type": "code",
   "execution_count": 4,
   "metadata": {},
   "outputs": [],
   "source": [
    "ds = xr.open_zarr(\"/mnt/disks/uk-all-inputs-v3/sat/v2/test/2023-01_nonhrv.zarr\")"
   ]
  },
  {
   "cell_type": "code",
   "execution_count": null,
   "metadata": {},
   "outputs": [],
   "source": [
    "ds"
   ]
  },
  {
   "cell_type": "code",
   "execution_count": null,
   "metadata": {},
   "outputs": [],
   "source": [
    "# Select a specific time and variable\n",
    "time = \"2023-01-20T12:20:00\"\n",
    "variable = \"IR_016\"\n",
    "\n",
    "# Plot the selected variable at the given time\n",
    "ds.sel(time=time, variable=variable).data.plot(\n",
    "    x=\"x_geostationary\",\n",
    "    y=\"y_geostationary\",\n",
    "    cmap=\"viridis\",\n",
    ")"
   ]
  }
 ],
 "metadata": {
  "kernelspec": {
   "display_name": "base",
   "language": "python",
   "name": "python3"
  },
  "language_info": {
   "codemirror_mode": {
    "name": "ipython",
    "version": 3
   },
   "file_extension": ".py",
   "mimetype": "text/x-python",
   "name": "python",
   "nbconvert_exporter": "python",
   "pygments_lexer": "ipython3",
   "version": "3.10.13"
  }
 },
 "nbformat": 4,
 "nbformat_minor": 2
}
