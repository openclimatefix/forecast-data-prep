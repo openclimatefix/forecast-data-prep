{
 "cells": [
  {
   "cell_type": "code",
   "execution_count": 19,
   "metadata": {},
   "outputs": [],
   "source": [
    "import xarray as xr\n",
    "import ocf_blosc2\n",
    "import pandas as pd"
   ]
  },
  {
   "cell_type": "code",
   "execution_count": 75,
   "metadata": {},
   "outputs": [],
   "source": [
    "ds_ec_ext = xr.open_zarr(\"/mnt/disks/gcp_data_v3/nwp/ecmwf/UK_v3/ECMWF_2022.zarr\")\n",
    "ds_ec_old = xr.open_zarr(\"/mnt/disks/gcp_data_v3/nwp/ecmwf/UK_v2.zarr\")\n",
    "\n",
    "ds_mo_ext = xr.open_zarr(\"/mnt/disks/gcp_data_v3/nwp/ukv/UKV_v8/UKV_2022.zarr\")\n",
    "ds_mo_old = xr.open_zarr(\"/mnt/disks/gcp_data_v3/nwp/ukv/UKV_v7/UKV_2022.zarr\")"
   ]
  },
  {
   "cell_type": "code",
   "execution_count": null,
   "metadata": {},
   "outputs": [],
   "source": [
    "ds_mo_old"
   ]
  },
  {
   "cell_type": "code",
   "execution_count": null,
   "metadata": {},
   "outputs": [],
   "source": [
    "ds_mo_ext.init_time.values"
   ]
  },
  {
   "cell_type": "code",
   "execution_count": 94,
   "metadata": {},
   "outputs": [],
   "source": [
    "init_time = '2022-12-12T12:00:00.000000000' #ds_ec_ext.init_time.values[1]\n",
    "lat = 51.60\n",
    "lon = -0.70\n",
    "x = 475872.699408\n",
    "y = 195760.588558"
   ]
  },
  {
   "cell_type": "code",
   "execution_count": null,
   "metadata": {},
   "outputs": [],
   "source": [
    "data_mo_old = ds_mo_old.sel(\n",
    "    # init_time = init_time,\n",
    "    x = x,\n",
    "    y = y,\n",
    "    method = 'nearest'\n",
    ")\n",
    "\n",
    "data_mo_old = data_mo_old.sel(\n",
    "    variable = \"sde\"\n",
    ")\n",
    "\n",
    "data_mo_old.UKV.values"
   ]
  },
  {
   "cell_type": "code",
   "execution_count": null,
   "metadata": {},
   "outputs": [],
   "source": [
    "# Get max value and index of \"sde\" variable across all dimensions\n",
    "sde_max = data_mo_old.UKV.max().values\n",
    "sde_max_idx = data_mo_old.UKV.argmax().values\n",
    "print(f\"Maximum value of 'sde' variable: {sde_max}\")\n",
    "print(f\"Index of maximum value: {sde_max_idx}\")\n"
   ]
  },
  {
   "cell_type": "code",
   "execution_count": null,
   "metadata": {},
   "outputs": [],
   "source": [
    "# Now try the selection and plotting with the sorted dataset\n",
    "data_ec_ext = ds_ec_ext.sel(\n",
    "    init_time=init_time,\n",
    "    latitude=lat,\n",
    "    longitude=lon,\n",
    "    method='nearest'\n",
    ")\n",
    "data_ec_ext = data_ec_ext.sel(\n",
    "    variable=\"sd\"\n",
    ")\n",
    "\n",
    "\n",
    "\n",
    "data_ec_old = ds_ec_old.sel(\n",
    "    init_time=init_time,\n",
    "    latitude=lat,\n",
    "    longitude=lon,\n",
    "    method='nearest'\n",
    ")\n",
    "data_ec_old = data_ec_old.sel(\n",
    "    variable=\"sde\"\n",
    ")\n",
    "\n",
    "\n",
    "\n",
    "data_mo_ext = ds_mo_ext.sel(\n",
    "    init_time = init_time,\n",
    "    x = lon,\n",
    "    y = lat,\n",
    "    method = 'nearest'\n",
    ")\n",
    "\n",
    "data_mo_ext = data_mo_ext.sel(\n",
    "    variable = \"sde\"\n",
    ")\n",
    "\n",
    "data_mo_old = ds_mo_old.sel(\n",
    "    init_time = init_time,\n",
    "    x = lon,\n",
    "    y = lat,\n",
    "    method = 'nearest'\n",
    ")\n",
    "\n",
    "data_mo_old = data_mo_old.sel(\n",
    "    variable = \"sde\"\n",
    ")\n",
    "\n",
    "\n",
    "\n",
    "\n",
    "# Create the plot\n",
    "import plotly.graph_objects as go\n",
    "\n",
    "fig = go.Figure()\n",
    "\n",
    "fig.add_trace(go.Scatter(\n",
    "    x=[x.astype('timedelta64[h]').astype(int) for x in data_ec_ext.step.values],\n",
    "    y=data_ec_ext.ECMWF_UK,\n",
    "    name='ECMWF Extended'\n",
    "))\n",
    "\n",
    "# Add traces for both datasets\n",
    "fig.add_trace(go.Scatter(\n",
    "    x=[x.astype('timedelta64[h]').astype(int) for x in data_ec_old.step.values],\n",
    "    y=data_ec_old.ECMWF_UK,\n",
    "    name='ECMWF Old'\n",
    "))\n",
    "\n",
    "fig.add_trace(go.Scatter(\n",
    "    x=[x.astype('timedelta64[h]').astype(int) for x in data_mo_ext.step.values],\n",
    "    y=data_mo_ext.UKV,\n",
    "    name='MO Extended'\n",
    "))\n",
    "\n",
    "# Add traces for both datasets\n",
    "fig.add_trace(go.Scatter(\n",
    "    x=[x.astype('timedelta64[h]').astype(int) for x in data_mo_old.step.values],\n",
    "    y=data_mo_old.UKV,\n",
    "    name='MO Old'\n",
    "))\n",
    "\n",
    "\n",
    "\n",
    "# Update layout\n",
    "fig.update_layout(\n",
    "    title=f'Snow Depth vs Step for {pd.Timestamp(init_time).strftime(\"%Y-%m-%d %H:%M\")}<br>Location: {lat}°N, {lon}°E',\n",
    "    xaxis_title='Forecast Step (hours)',\n",
    "    yaxis_title='Snow Depth',\n",
    "    showlegend=True,\n",
    "    height=600,\n",
    "    width=1200\n",
    ")\n",
    "\n",
    "fig.show()\n"
   ]
  },
  {
   "cell_type": "code",
   "execution_count": null,
   "metadata": {},
   "outputs": [],
   "source": [
    "data_ec_old"
   ]
  },
  {
   "cell_type": "code",
   "execution_count": null,
   "metadata": {},
   "outputs": [],
   "source": [
    "data_ec_ext"
   ]
  }
 ],
 "metadata": {
  "kernelspec": {
   "display_name": "base",
   "language": "python",
   "name": "python3"
  },
  "language_info": {
   "codemirror_mode": {
    "name": "ipython",
    "version": 3
   },
   "file_extension": ".py",
   "mimetype": "text/x-python",
   "name": "python",
   "nbconvert_exporter": "python",
   "pygments_lexer": "ipython3",
   "version": "3.10.13"
  }
 },
 "nbformat": 4,
 "nbformat_minor": 2
}
